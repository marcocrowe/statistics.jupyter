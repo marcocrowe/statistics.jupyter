{
 "cells": [
  {
   "cell_type": "markdown",
   "id": "11a2e4d2",
   "metadata": {},
   "source": [
    "# Mann Whitney U Test"
   ]
  },
  {
   "cell_type": "markdown",
   "id": "477d6cb5",
   "metadata": {},
   "source": [
    "<!--\n",
    "import data_analytics.github as github\n",
    "print(github.create_jupyter_notebook_header(\"markcrowe-com\", \"statistics\", \"mann-whitney-u-test/mann-whitney-u-test.ipynb\", \"master\"))\n",
    "-->\n",
    "<table style=\"margin: auto;\"><tr><td><a href=\"https://mybinder.org/v2/gh/markcrowe-com/statistics/master?filepath=mann-whitney-u-test/mann-whitney-u-test.ipynb\" target=\"_parent\"><img src=\"https://mybinder.org/badge_logo.svg\" alt=\"Open In Binder\"/></a></td><td>online editors</td><td><a href=\"https://colab.research.google.com/github/markcrowe-com/statistics/blob/master/mann-whitney-u-test/mann-whitney-u-test.ipynb\" target=\"_parent\"><img src=\"https://colab.research.google.com/assets/colab-badge.svg\" alt=\"Open In Colab\"/></a></td></tr></table>"
   ]
  },
  {
   "cell_type": "markdown",
   "id": "370b2c9a",
   "metadata": {},
   "source": [
    "## Setup"
   ]
  },
  {
   "cell_type": "markdown",
   "id": "2cf6b50d",
   "metadata": {},
   "source": [
    "Import required third party Python libraries, import supporting functions and sets up data source file paths."
   ]
  },
  {
   "cell_type": "code",
   "execution_count": 1,
   "id": "1752947d",
   "metadata": {},
   "outputs": [],
   "source": [
    "# Local\n",
    "#!pip install -r script/requirements.txt\n",
    "# Remote option\n",
    "#!pip install -r https://raw.githubusercontent.com/markcrowe-com/agriculture-data-analytics/requirements.txt\n",
    "#Options: --quiet --user"
   ]
  },
  {
   "cell_type": "code",
   "execution_count": 2,
   "id": "c1a8bbbc",
   "metadata": {},
   "outputs": [],
   "source": [
    "from scipy.stats import mannwhitneyu\n",
    "from pandas import DataFrame, read_csv\n",
    "import numpy"
   ]
  },
  {
   "cell_type": "markdown",
   "id": "b0edddd2",
   "metadata": {},
   "source": [
    "## Mann Whitney U Test"
   ]
  },
  {
   "cell_type": "markdown",
   "id": "d39a8c39",
   "metadata": {},
   "source": [
    "### Objectives and characteristics of this test"
   ]
  },
  {
   "cell_type": "markdown",
   "id": "8b65157c",
   "metadata": {},
   "source": [
    "- This test is another non-parametric test that wants to confirm whether or not there are differences between the median values of two populations.\n",
    "- Scale: ordinal.\n",
    "- It is not necessary to assume normal distribution for the original variable.\n",
    "- We analyze two independent samples.\n",
    "- The unit of measurement has to be the same for both samples.\n",
    "- We do not need to assume homogeneity between the variables."
   ]
  },
  {
   "cell_type": "markdown",
   "id": "62cfe472",
   "metadata": {},
   "source": [
    "- The alternative Hypothesis could be:  \n",
    "  - < if we want to determine if the values of one sample are less than the other one\n",
    "  - \\> If we want to determine if the values of one sample are greater than the other one\n",
    "  - ≠ if we want to determine whether there are differences or not\n",
    "- This is the non=parametric version of the t-test for two populations means.\n",
    "- This is also known as the Wilcoxon sum of rank test."
   ]
  },
  {
   "cell_type": "markdown",
   "id": "296a5927",
   "metadata": {},
   "source": [
    "### Constants"
   ]
  },
  {
   "cell_type": "code",
   "execution_count": 3,
   "id": "1c19dcff",
   "metadata": {},
   "outputs": [],
   "source": [
    "ALPHA = 0.05"
   ]
  },
  {
   "cell_type": "markdown",
   "id": "9223be5e",
   "metadata": {},
   "source": [
    "### Formula"
   ]
  },
  {
   "cell_type": "markdown",
   "id": "17fa4fe3",
   "metadata": {},
   "source": [
    "$$\n",
    "U=Min(U_1, U_2)  \\\\\n",
    "z = \\frac{U-m_U}{\\sigma_U}  \\\\\n",
    "m_U = \\frac{n_1n_2}{2}  \\\\\n",
    "\\sigma_U=\\sqrt{\\frac{n_1n_2(n_1+n_2+1)}{12}} \\\\\n",
    "\\\\\n",
    "$$"
   ]
  },
  {
   "cell_type": "markdown",
   "id": "ab4279ad",
   "metadata": {},
   "source": [
    "#### All together"
   ]
  },
  {
   "cell_type": "markdown",
   "id": "31bd97ac",
   "metadata": {},
   "source": [
    "$$\n",
    "z = \\frac{U-\\frac{n_1n_2}{2}}{\\sqrt{\\frac{n_1n_2(n_1+n_2+1)}{12}}}\n",
    "$$"
   ]
  },
  {
   "cell_type": "markdown",
   "id": "73e84551",
   "metadata": {},
   "source": [
    "### function"
   ]
  },
  {
   "cell_type": "code",
   "execution_count": 4,
   "id": "71401986",
   "metadata": {},
   "outputs": [],
   "source": [
    "def calculate_z_score(test_statistic, sample1_size, sample2_size):\n",
    "    U1 = test_statistic\n",
    "    U2 = sample1_size * sample2_size - U1\n",
    "    U = min(U1, U2)\n",
    "    return (U - sample1_size * sample2_size / 2) / numpy.sqrt(\n",
    "        sample1_size * sample2_size * (sample1_size + sample2_size + 1) / 12)"
   ]
  },
  {
   "cell_type": "markdown",
   "id": "5c37ed94",
   "metadata": {},
   "source": [
    "## Example"
   ]
  },
  {
   "cell_type": "markdown",
   "id": "9f3986bf",
   "metadata": {},
   "source": [
    "You work for a company that produces two brands of detergents: Super and Best. Before deciding the investment in advertising you need to know if there are differences in the acceptance between one and another one. The company gives a free trial to 25 people for the Super detergent and to 22 people for the detergent Best and asked them to qualify the performance from 1 to 10. You can find the results on the file \"detergent-performance.csv\". Try to find if one brand needs more publicity than the other one using 5% level of significance."
   ]
  },
  {
   "cell_type": "markdown",
   "id": "b64bf775",
   "metadata": {},
   "source": [
    "#### Hypothesis Statement\n",
    "$H_0$: There is no difference in the performance of the detergents  \n",
    "$H_1$: There is a difference in the performance of the detergents  \n",
    "*For example, if you wanted to test whether Super is performing better than Best, the performance  \n",
    "should be greater, this would be your test:  \n",
    "$H_0$: There is no difference in the performance of the detergents  \n",
    "$H_1$: Super performance is greater than Best  "
   ]
  },
  {
   "cell_type": "code",
   "execution_count": null,
   "id": "3a6a80f4",
   "metadata": {},
   "outputs": [],
   "source": []
  },
  {
   "cell_type": "markdown",
   "id": "21e1d7ad",
   "metadata": {},
   "source": [
    "### Load file"
   ]
  },
  {
   "cell_type": "code",
   "execution_count": 5,
   "id": "c309c248",
   "metadata": {},
   "outputs": [],
   "source": [
    "filename = 'detergent-performance.csv'"
   ]
  },
  {
   "cell_type": "code",
   "execution_count": 6,
   "id": "cd6d655c",
   "metadata": {},
   "outputs": [],
   "source": [
    "# remote\n",
    "filepath = 'https://github.com/markcrowe-com/statistics/blob/master/mann-whitney-u-test/'+ filename + '?raw=true'"
   ]
  },
  {
   "cell_type": "code",
   "execution_count": 7,
   "id": "4ea05983",
   "metadata": {},
   "outputs": [],
   "source": [
    "# local\n",
    "filepath = filename"
   ]
  },
  {
   "cell_type": "code",
   "execution_count": 8,
   "id": "59a22fab",
   "metadata": {},
   "outputs": [],
   "source": [
    "dataframe: DataFrame = read_csv(filepath)"
   ]
  },
  {
   "cell_type": "code",
   "execution_count": 9,
   "id": "924b2feb",
   "metadata": {},
   "outputs": [
    {
     "data": {
      "text/html": [
       "<div>\n",
       "<style scoped>\n",
       "    .dataframe tbody tr th:only-of-type {\n",
       "        vertical-align: middle;\n",
       "    }\n",
       "\n",
       "    .dataframe tbody tr th {\n",
       "        vertical-align: top;\n",
       "    }\n",
       "\n",
       "    .dataframe thead th {\n",
       "        text-align: right;\n",
       "    }\n",
       "</style>\n",
       "<table border=\"1\" class=\"dataframe\">\n",
       "  <thead>\n",
       "    <tr style=\"text-align: right;\">\n",
       "      <th></th>\n",
       "      <th>Detergent</th>\n",
       "      <th>Performance</th>\n",
       "    </tr>\n",
       "  </thead>\n",
       "  <tbody>\n",
       "    <tr>\n",
       "      <th>0</th>\n",
       "      <td>Super</td>\n",
       "      <td>2</td>\n",
       "    </tr>\n",
       "    <tr>\n",
       "      <th>1</th>\n",
       "      <td>Super</td>\n",
       "      <td>3</td>\n",
       "    </tr>\n",
       "    <tr>\n",
       "      <th>2</th>\n",
       "      <td>Super</td>\n",
       "      <td>4</td>\n",
       "    </tr>\n",
       "    <tr>\n",
       "      <th>3</th>\n",
       "      <td>Best</td>\n",
       "      <td>4</td>\n",
       "    </tr>\n",
       "    <tr>\n",
       "      <th>4</th>\n",
       "      <td>Best</td>\n",
       "      <td>4</td>\n",
       "    </tr>\n",
       "  </tbody>\n",
       "</table>\n",
       "</div>"
      ],
      "text/plain": [
       "  Detergent  Performance\n",
       "0     Super            2\n",
       "1     Super            3\n",
       "2     Super            4\n",
       "3      Best            4\n",
       "4      Best            4"
      ]
     },
     "execution_count": 9,
     "metadata": {},
     "output_type": "execute_result"
    }
   ],
   "source": [
    "dataframe.head()"
   ]
  },
  {
   "cell_type": "markdown",
   "id": "c3a7ed5c",
   "metadata": {},
   "source": [
    "### Format Data"
   ]
  },
  {
   "cell_type": "code",
   "execution_count": 10,
   "id": "7858f51e",
   "metadata": {},
   "outputs": [],
   "source": [
    "super_dataframe: DataFrame = dataframe[(dataframe['Detergent'] == \"Super\")].reset_index()\n",
    "best_dataframe: DataFrame = dataframe[(dataframe['Detergent'] == \"Best\")].reset_index()"
   ]
  },
  {
   "cell_type": "code",
   "execution_count": 11,
   "id": "d697f439",
   "metadata": {},
   "outputs": [
    {
     "data": {
      "text/html": [
       "<div>\n",
       "<style scoped>\n",
       "    .dataframe tbody tr th:only-of-type {\n",
       "        vertical-align: middle;\n",
       "    }\n",
       "\n",
       "    .dataframe tbody tr th {\n",
       "        vertical-align: top;\n",
       "    }\n",
       "\n",
       "    .dataframe thead th {\n",
       "        text-align: right;\n",
       "    }\n",
       "</style>\n",
       "<table border=\"1\" class=\"dataframe\">\n",
       "  <thead>\n",
       "    <tr style=\"text-align: right;\">\n",
       "      <th></th>\n",
       "      <th>index</th>\n",
       "      <th>Detergent</th>\n",
       "      <th>Performance</th>\n",
       "    </tr>\n",
       "  </thead>\n",
       "  <tbody>\n",
       "    <tr>\n",
       "      <th>0</th>\n",
       "      <td>0</td>\n",
       "      <td>Super</td>\n",
       "      <td>2</td>\n",
       "    </tr>\n",
       "    <tr>\n",
       "      <th>1</th>\n",
       "      <td>1</td>\n",
       "      <td>Super</td>\n",
       "      <td>3</td>\n",
       "    </tr>\n",
       "    <tr>\n",
       "      <th>2</th>\n",
       "      <td>2</td>\n",
       "      <td>Super</td>\n",
       "      <td>4</td>\n",
       "    </tr>\n",
       "    <tr>\n",
       "      <th>3</th>\n",
       "      <td>7</td>\n",
       "      <td>Super</td>\n",
       "      <td>5</td>\n",
       "    </tr>\n",
       "    <tr>\n",
       "      <th>4</th>\n",
       "      <td>8</td>\n",
       "      <td>Super</td>\n",
       "      <td>5</td>\n",
       "    </tr>\n",
       "  </tbody>\n",
       "</table>\n",
       "</div>"
      ],
      "text/plain": [
       "   index Detergent  Performance\n",
       "0      0     Super            2\n",
       "1      1     Super            3\n",
       "2      2     Super            4\n",
       "3      7     Super            5\n",
       "4      8     Super            5"
      ]
     },
     "execution_count": 11,
     "metadata": {},
     "output_type": "execute_result"
    }
   ],
   "source": [
    "super_dataframe.head()"
   ]
  },
  {
   "cell_type": "code",
   "execution_count": 12,
   "id": "805ab53f",
   "metadata": {},
   "outputs": [],
   "source": [
    "sample1 = best_dataframe['Performance']\n",
    "sample2 = super_dataframe['Performance']"
   ]
  },
  {
   "cell_type": "markdown",
   "id": "74cc7d1e",
   "metadata": {},
   "source": [
    "### The Math"
   ]
  },
  {
   "cell_type": "code",
   "execution_count": 13,
   "id": "ee2a1f1a",
   "metadata": {},
   "outputs": [
    {
     "name": "stdout",
     "output_type": "stream",
     "text": [
      "Test-statistic (U) = 273.500, p-value = 0.983\n",
      "Z-score = -0.032\n"
     ]
    }
   ],
   "source": [
    "test_statistic, p_value = mannwhitneyu(sample1, sample2)\n",
    "z_score = calculate_z_score(test_statistic, len(sample1), len(sample2))\n",
    "\n",
    "print('Test-statistic (U) = %.3f, p-value = %.3f' % (test_statistic, p_value))\n",
    "print('Z-score = %.3f' % z_score)"
   ]
  },
  {
   "cell_type": "markdown",
   "id": "f55f6f8d",
   "metadata": {},
   "source": [
    "### Graph"
   ]
  },
  {
   "cell_type": "markdown",
   "id": "dd136bb7",
   "metadata": {},
   "source": [
    "Work in progress  \n",
    "<https://share.streamlit.io/harmkenn/python-stat-tools/main/app.py>  \n",
    "<https://github.com/harmkenn/python-stat-tools/>  "
   ]
  },
  {
   "cell_type": "code",
   "execution_count": 14,
   "id": "22778896",
   "metadata": {},
   "outputs": [],
   "source": [
    "import math\n",
    "from scipy.stats import *\n",
    "import pandas as pd\n",
    "from plotnine import *\n",
    "\n",
    "lzp = -1.96\n",
    "rzp = 1.0\n",
    "zpc = 1.96\n",
    "\n",
    "tp = 0\n",
    "\n",
    "lzp = lzp\n",
    "\n",
    "ls = -1.0\n",
    "zpc = 1\n",
    "rs = 0\n",
    "\n",
    "rzp = rzp\n",
    "\n",
    "x = numpy.arange(-4,4,.1)\n",
    "y = norm.pdf(x)\n",
    "ndf = pd.DataFrame({\"x\":x,\"y\":y})\n",
    "\n",
    "normp = ggplot(ndf)  \n",
    "if ls:\n",
    "    tp = tp + norm.cdf(lzp)\n",
    "    normp = normp + stat_function(fun = norm.pdf, geom = \"area\",fill = \"steelblue\", xlim = (-4,lzp))\n",
    "if zpc:\n",
    "    tp = tp + norm.cdf(rzp) - norm.cdf(lzp)\n",
    "    normp = normp + stat_function(fun = norm.pdf, geom = \"area\",fill = \"steelblue\", xlim = (lzp,rzp))\n",
    "if rs:\n",
    "    tp = tp + 1 - norm.cdf(rzp)\n",
    "    normp = normp + stat_function(fun = norm.pdf, geom = \"area\",fill = \"steelblue\", xlim = (rzp,4))\n",
    "normp = normp + geom_segment(aes(x = lzp, y = 0, xend = lzp, yend = norm.pdf(lzp)),color=\"red\")\n",
    "normp = normp + geom_segment(aes(x = rzp, y = 0, xend = rzp, yend = norm.pdf(rzp)),color=\"red\")\n",
    "normp = normp + geom_line(aes(x=x,y=y)) + coord_fixed(ratio = 4) + xlab('z') + ylab('')"
   ]
  },
  {
   "cell_type": "code",
   "execution_count": 15,
   "id": "01327ff5",
   "metadata": {},
   "outputs": [
    {
     "data": {
      "image/png": "[encoded data removed]",
      "text/plain": [
       "<Figure size 640x130.117 with 1 Axes>"
      ]
     },
     "execution_count": 15,
     "metadata": {},
     "output_type": "execute_result"
    },
    {
     "data": {
      "image/png": "[encoded data removed]",
      "text/plain": [
       "<Figure size 640x130.117 with 1 Axes>"
      ]
     },
     "metadata": {},
     "output_type": "display_data"
    }
   ],
   "source": [
    "ggplot.draw(normp)"
   ]
  },
  {
   "cell_type": "markdown",
   "id": "9c1bd515",
   "metadata": {},
   "source": [
    "### Interpretation"
   ]
  },
  {
   "cell_type": "code",
   "execution_count": 16,
   "id": "4c4ff1c4",
   "metadata": {},
   "outputs": [
    {
     "name": "stdout",
     "output_type": "stream",
     "text": [
      "Same distributions (fail to reject H0)\n"
     ]
    }
   ],
   "source": [
    "if p_value > ALPHA:\n",
    "    print('Same distributions (fail to reject H0)')\n",
    "else:\n",
    "    print('Different distributions (reject H0)')"
   ]
  },
  {
   "cell_type": "markdown",
   "id": "066a4809",
   "metadata": {},
   "source": [
    "According to the test and at a 5% of significance level, we can say that there is no evidence to say that\n",
    "there are differences in the consumer's preferences between the brands"
   ]
  }
 ],
 "metadata": {
  "kernelspec": {
   "display_name": "Python 3 (ipykernel)",
   "language": "python",
   "name": "python3"
  },
  "language_info": {
   "codemirror_mode": {
    "name": "ipython",
    "version": 3
   },
   "file_extension": ".py",
   "mimetype": "text/x-python",
   "name": "python",
   "nbconvert_exporter": "python",
   "pygments_lexer": "ipython3",
   "version": "3.8.12"
  },
  "toc": {
   "base_numbering": 1,
   "nav_menu": {},
   "number_sections": false,
   "sideBar": true,
   "skip_h1_title": false,
   "title_cell": "Table of Contents",
   "title_sidebar": "Contents",
   "toc_cell": false,
   "toc_position": {},
   "toc_section_display": true,
   "toc_window_display": true
  }
 },
 "nbformat": 4,
 "nbformat_minor": 5
}
