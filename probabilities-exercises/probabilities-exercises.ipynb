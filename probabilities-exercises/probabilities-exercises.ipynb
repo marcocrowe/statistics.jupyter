{
 "cells": [
  {
   "cell_type": "markdown",
   "id": "21419055",
   "metadata": {},
   "source": [
    "<table><tr><td><a href=\"https://mybinder.org/v2/gh/markcrowe-com/statistics/master?filepath=probabilities-exercises/probabilities-exercises.ipynb\" target=\"_parent\"><img src=\"https://mybinder.org/badge_logo.svg\" alt=\"Open In Binder\"/></a></td><td>online editors</td><td><a href=\"https://colab.research.google.com/github/markcrowe-com/statistics/blob/master/probabilities-exercises/probabilities-exercises.ipynb\" target=\"_parent\"><img src=\"https://colab.research.google.com/assets/colab-badge.svg\" alt=\"Open In Colab\"/></a></td></tr></table>"
   ]
  },
  {
   "cell_type": "markdown",
   "id": "2ba07d2d",
   "metadata": {},
   "source": [
    "# Probabilities Exercises"
   ]
  },
  {
   "cell_type": "markdown",
   "id": "9b330383",
   "metadata": {},
   "source": [
    "## Exercise 1\n",
    "A purchasing department finds that 75% of its special orders are received on time. Of those received on time, 80% fully meet the specifications. Of those who arrive late, 60% comply. A random package is chosen:  \n",
    "\n",
    "a) What is the probability that it meets the specifications?\n",
    "b) If an order was chosen that does not meet specifications, what is the probability that it was received on time?"
   ]
  },
  {
   "cell_type": "markdown",
   "id": "79ba4063",
   "metadata": {},
   "source": [
    "## Exercise 2\n",
    "Every night James rolls a dice to decide how he is going to wake up the next day to go to college. If the number turns out to be even, he will use the alarm of his cell phone and, if not, he will use the alarm clock. 5% of the times that his cell phone alarm sounds, he falls asleep, while only 1% of the times that he uses the alarm clock, he falls asleep and then fails to get to school on time.  \n",
    "\n",
    "a) What is the probability that, on any given day, James falls asleep?  \n",
    "b) If it is known that on a certain day James attended college on time, what is the probability that he chose to wake up with the alarm on his cell phone?  "
   ]
  },
  {
   "cell_type": "markdown",
   "id": "62493682",
   "metadata": {},
   "source": [
    "## Exercise 3\n",
    "If we throw 3 coins, find the probability of getting:  \n",
    "a) Two heads.  \n",
    "b) Two tails.  "
   ]
  },
  {
   "cell_type": "markdown",
   "id": "f73e829a",
   "metadata": {},
   "source": [
    "## Exercise 4\n",
    "We roll a dice, and we want to know the probability of:  \n",
    "\n",
    "a) Getting an even number?  \n",
    "b) Getting a multiple of 6?  \n",
    "c) A number greater than 4?  "
   ]
  },
  {
   "cell_type": "markdown",
   "id": "700fb8d2",
   "metadata": {},
   "source": [
    "## Exercise 5\n",
    "An urn contains 8 red balls, 5 yellow balls and 7 green balls. If we randomly picked one, what is the probability of:  \n",
    "a) Getting a red ball?  \n",
    "b) Getting a green ball?  \n",
    "c) Getting a yellow ball?  \n",
    "d) Not getting a red ball?  \n",
    "e) Not getting a yellow ball?  \n",
    "f) If we know that the ball is not red, what is the probability of getting a green one?  "
   ]
  },
  {
   "cell_type": "markdown",
   "id": "31fd0eea",
   "metadata": {},
   "source": [
    "## Exercise 6\n",
    "Given $ P(A) = 0.50 $, $ P(\\overline{B}) = 0.30 $ and $ P(A \\cup \\overline{B}) = 0.70 $, Calculate $ P(A \\cap B) $  "
   ]
  },
  {
   "cell_type": "markdown",
   "id": "8116747a",
   "metadata": {},
   "source": [
    "## Exercise 7\n",
    "In a classroom of 40 students, 10 of them are boys. Between the boys, 3 can speak another language while 50% of the girls can speak a foreign language. If we randomly pick a student:  \n",
    "a) What is the probability of this to be a girl?  \n",
    "b) What is the probability of this to speak a foreign language?  \n",
    "c) If the student does not speak a foreign language, what is the probability of this person to be a boy?  "
   ]
  },
  {
   "cell_type": "markdown",
   "id": "78b663ed",
   "metadata": {},
   "source": [
    "---"
   ]
  },
  {
   "cell_type": "markdown",
   "id": "415ef873",
   "metadata": {},
   "source": [
    "# Answer Key\n",
    "\n",
    "### Exercise 1\n",
    "\n",
    "a) 0.75  \n",
    "b) 0.60  \n",
    "\n",
    "### Exercise 2\n",
    "\n",
    "a) 0.03  \n",
    "b) 0.83  \n",
    "\n",
    "### Exercise 3\n",
    "\n",
    "a) 0.375  \n",
    "b) 0.375  \n",
    "\n",
    "### Exercise 4\n",
    "\n",
    "a) 0.50  \n",
    "b) 0.1666  \n",
    "c) 0.3333  \n",
    "\n",
    "### Exercise 5\n",
    "\n",
    "a) 0.40  \n",
    "b) 0.35  \n",
    "c) 0.25  \n",
    "d) 0.60  \n",
    "e) 0.75  \n",
    "f) 0.58333  \n",
    "\n",
    "### Exercise 6\n",
    "\n",
    "$P(A \\cap B) = 0.4$  \n",
    "\n",
    "### Exercise 7\n",
    "\n",
    "a) 0.75  \n",
    "b) 0.45  \n",
    "c) 0.3181  "
   ]
  }
 ],
 "metadata": {
  "kernelspec": {
   "display_name": "Python 3",
   "language": "python",
   "name": "python3"
  },
  "language_info": {
   "codemirror_mode": {
    "name": "ipython",
    "version": 3
   },
   "file_extension": ".py",
   "mimetype": "text/x-python",
   "name": "python",
   "nbconvert_exporter": "python",
   "pygments_lexer": "ipython3",
   "version": "3.8.8"
  }
 },
 "nbformat": 4,
 "nbformat_minor": 5
}
