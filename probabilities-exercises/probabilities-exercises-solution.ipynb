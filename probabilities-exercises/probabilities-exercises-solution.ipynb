{
 "cells": [
  {
   "cell_type": "markdown",
   "id": "cddd678c",
   "metadata": {},
   "source": [
    "<table><tr><td><a href=\"https://mybinder.org/v2/gh/markcrowe-com/statistics/master?filepath=probabilities-exercises/probabilities-exercises-solution.ipynb\" target=\"_parent\"><img src=\"https://mybinder.org/badge_logo.svg\" alt=\"Open In Binder\"/></a></td><td>online editors</td><td><a href=\"https://colab.research.google.com/github/markcrowe-com/statistics/blob/master/probabilities-exercises/probabilities-exercises-solution.ipynb\" target=\"_parent\"><img src=\"https://colab.research.google.com/assets/colab-badge.svg\" alt=\"Open In Colab\"/></a></td></tr></table>"
   ]
  },
  {
   "cell_type": "markdown",
   "id": "34f9078a",
   "metadata": {},
   "source": [
    "# Probabilities Exercises"
   ]
  },
  {
   "cell_type": "code",
   "execution_count": 2,
   "id": "042be648",
   "metadata": {},
   "outputs": [],
   "source": [
    "filename = 'probabilities-exercises-solution.xlsx'"
   ]
  },
  {
   "cell_type": "code",
   "execution_count": 3,
   "id": "420c7b62",
   "metadata": {},
   "outputs": [],
   "source": [
    "# local\n",
    "filepath = filename"
   ]
  },
  {
   "cell_type": "code",
   "execution_count": 4,
   "id": "62306bda",
   "metadata": {},
   "outputs": [],
   "source": [
    "# remote\n",
    "filepath = 'https://github.com/markcrowe-com/statistics/blob/master/probabilities-exercises/'+ filename + '?raw=true'"
   ]
  },
  {
   "cell_type": "code",
   "execution_count": 5,
   "id": "e39b9b1a",
   "metadata": {},
   "outputs": [],
   "source": [
    "import pandas\n",
    "excelWorkbook = pandas.ExcelFile(filepath)"
   ]
  },
  {
   "cell_type": "markdown",
   "id": "5c3a3b98",
   "metadata": {},
   "source": [
    "## Exercise 1\n",
    "A purchasing department finds that 75% of its special orders are received on time. Of those received on time, 80% fully meet the specifications. Of those who arrive late, 60% comply. A random package is chosen:  \n",
    "\n",
    "a) What is the probability that it meets the specifications?  \n",
    "b) If an order was chosen that does not meet specifications, what is the probability that it was received on time?"
   ]
  },
  {
   "cell_type": "markdown",
   "id": "d9403313",
   "metadata": {},
   "source": [
    "### Answer: Decision Tree and Algebra\n",
    "\n",
    "[![](https://mermaid.ink/img/eyJjb2RlIjoiZ3JhcGggVEI7XG5cdHN0YXJ0KCApXG5cdHN0YXJ0LS0-IHxcIjAuNzVcInwgVCgoXCJQKFQpXCIpKVxuXHRzdGFydC0tPiB8XCIwLjI1XCJ8IHQoKFwiUChUzIUpXCIpKVxuXHRULS0-IHxcIlAoU3xUKT0wLjhcInwgU1QoKFwiUChTJmNhcDtUKVwiKSlcblx0VC0tPiB8XCJQKFPMhXxUKT0wLjJcInwgc1QoKFwiUChTzIUmY2FwO1QpXCIpKVxuXHR0LS0-IHxcIlAoU3xUzIUpPTAuNlwifCBTdCgoXCJQKFMmY2FwO1TMhSlcIikpXG5cdHQtLT4gfFwiUChTzIV8VMyFKT0wLjRcInwgc3QoKFwiUChTzIUmY2FwO1TMhSlcIikpXG5cdFNULS0-U1RBbnN3ZXIoMC43NSAqIDAuOCA9IDAuNilcblx0U3QtLT5TdEFuc3dlcigwLjc1ICogMC4yID0gMC4xNSlcblx0c1QtLT5zVEFuc3dlcigwLjI1ICogMC42ID0gMC4xNSlcblx0c3QtLT5zdEFuc3dlcigwLjI1ICogMC40ID0gMC4xKVxuXHRTVEFuc3dlci0tPlMoKFwiUChTKVwiKSlcblx0U3RBbnN3ZXItLT5TXG5cdFMtLT5TQW5zd2VyKFwiMC42ICsgMC4xNSA9IDAuNzVcIikiLCJtZXJtYWlkIjp7InRoZW1lIjoiZGVmYXVsdCJ9LCJ1cGRhdGVFZGl0b3IiOmZhbHNlLCJhdXRvU3luYyI6dHJ1ZSwidXBkYXRlRGlhZ3JhbSI6ZmFsc2V9)](https://mermaid-js.github.io/mermaid-live-editor/edit/#eyJjb2RlIjoiZ3JhcGggVEI7XG5cdHN0YXJ0KCApXG5cdHN0YXJ0LS0-IHxcIjAuNzVcInwgVCgoXCJQKFQpXCIpKVxuXHRzdGFydC0tPiB8XCIwLjI1XCJ8IHQoKFwiUChUzIUpXCIpKVxuXHRULS0-IHxcIlAoU3xUKT0wLjhcInwgU1QoKFwiUChTJmNhcDtUKVwiKSlcblx0VC0tPiB8XCJQKFPMhXxUKT0wLjJcInwgc1QoKFwiUChTzIUmY2FwO1QpXCIpKVxuXHR0LS0-IHxcIlAoU3xUzIUpPTAuNlwifCBTdCgoXCJQKFMmY2FwO1TMhSlcIikpXG5cdHQtLT4gfFwiUChTzIV8VMyFKT0wLjRcInwgc3QoKFwiUChTzIUmY2FwO1TMhSlcIikpXG5cdFNULS0-U1RBbnN3ZXIoMC43NSAqIDAuOCA9IDAuNilcblx0U3QtLT5TdEFuc3dlcigwLjc1ICogMC4yID0gMC4xNSlcblx0c1QtLT5zVEFuc3dlcigwLjI1ICogMC42ID0gMC4xNSlcblx0c3QtLT5zdEFuc3dlcigwLjI1ICogMC40ID0gMC4xKVxuXHRTVEFuc3dlci0tPlMoKFwiUChTKVwiKSlcblx0U3RBbnN3ZXItLT5TXG5cdFMtLT5TQW5zd2VyKFwiMC42ICsgMC4xNSA9IDAuNzVcIikiLCJtZXJtYWlkIjoie1xuICBcInRoZW1lXCI6IFwiZGVmYXVsdFwiXG59IiwidXBkYXRlRWRpdG9yIjpmYWxzZSwiYXV0b1N5bmMiOnRydWUsInVwZGF0ZURpYWdyYW0iOmZhbHNlfQ)\n",
    "\n",
    "$ P(T|\\overline{S}) = \\frac{P(\\overline{S} \\cap T)}{P(\\overline{S})} $  \n",
    "$ P(\\overline{S}) = 1 - P(S) $  \n",
    "\n",
    "$ P(S) = 0.75 \\therefore P(\\overline{S}) = 0.25 $  \n",
    "$ P(T|\\overline{S}) = \\frac{0.15}{0.25} $  \n",
    "$ P(T|\\overline{S}) = 0.6 $\n",
    "\n",
    "Answer:  \n",
    "a) $ P(S) = 0.75 $  \n",
    "b) $ P(T|\\overline{S}) = 0.6 $"
   ]
  },
  {
   "cell_type": "markdown",
   "id": "641f1c8a",
   "metadata": {},
   "source": [
    "### Answer: Excel Contingency Table"
   ]
  },
  {
   "cell_type": "code",
   "execution_count": 5,
   "id": "33c94485",
   "metadata": {},
   "outputs": [
    {
     "data": {
      "text/html": [
       "<div>\n",
       "<style scoped>\n",
       "    .dataframe tbody tr th:only-of-type {\n",
       "        vertical-align: middle;\n",
       "    }\n",
       "\n",
       "    .dataframe tbody tr th {\n",
       "        vertical-align: top;\n",
       "    }\n",
       "\n",
       "    .dataframe thead th {\n",
       "        text-align: right;\n",
       "    }\n",
       "</style>\n",
       "<table border=\"1\" class=\"dataframe\">\n",
       "  <thead>\n",
       "    <tr style=\"text-align: right;\">\n",
       "      <th></th>\n",
       "      <th>X</th>\n",
       "      <th>P(X)</th>\n",
       "      <th>P(B|X)</th>\n",
       "      <th>P(B̅|X)</th>\n",
       "      <th>P(X∩B)</th>\n",
       "      <th>P(X∩B̅)</th>\n",
       "      <th>P(B)</th>\n",
       "      <th>P(B̅)</th>\n",
       "      <th>P(X|B)</th>\n",
       "    </tr>\n",
       "  </thead>\n",
       "  <tbody>\n",
       "    <tr>\n",
       "      <th>0</th>\n",
       "      <td>A</td>\n",
       "      <td>0.75</td>\n",
       "      <td>0.8</td>\n",
       "      <td>0.2</td>\n",
       "      <td>0.60</td>\n",
       "      <td>0.15</td>\n",
       "      <td>0.75</td>\n",
       "      <td>0.25</td>\n",
       "      <td>0.6</td>\n",
       "    </tr>\n",
       "    <tr>\n",
       "      <th>1</th>\n",
       "      <td>A̅</td>\n",
       "      <td>0.25</td>\n",
       "      <td>0.6</td>\n",
       "      <td>0.4</td>\n",
       "      <td>0.15</td>\n",
       "      <td>0.10</td>\n",
       "      <td>0.75</td>\n",
       "      <td>0.25</td>\n",
       "      <td>0.4</td>\n",
       "    </tr>\n",
       "  </tbody>\n",
       "</table>\n",
       "</div>"
      ],
      "text/plain": [
       "    X  P(X)  P(B|X)  P(B̅|X)  P(X∩B)  P(X∩B̅)  P(B)  P(B̅)  P(X|B)\n",
       "0   A  0.75     0.8      0.2    0.60     0.15  0.75   0.25     0.6\n",
       "1  A̅  0.25     0.6      0.4    0.15     0.10  0.75   0.25     0.4"
      ]
     },
     "execution_count": 5,
     "metadata": {},
     "output_type": "execute_result"
    }
   ],
   "source": [
    "excelWorkbook.parse('Question1')"
   ]
  },
  {
   "cell_type": "markdown",
   "id": "2bc0d0cb",
   "metadata": {
    "scrolled": false
   },
   "source": [
    "Answer:  \n",
    "a) $ P(B) = 0.75 $  \n",
    "b) $ P(A|\\overline{B}) = 0.6 $"
   ]
  },
  {
   "cell_type": "markdown",
   "id": "0fa37a36",
   "metadata": {
    "scrolled": false
   },
   "source": [
    "### Answer: Contingency Table and Algebra\n",
    "\n",
    "| | $$ B \\text{ (specification)} $$ | $$ \\overline{B} \\text{ (failed specification)} $$  | |\n",
    "|-|-|-|-|\n",
    "| $$ A \\text{ (on time)} $$ | $$ A \\cap B $$  $$ 0.75 * 0.8 = 0.60 $$ | $$ A \\cap \\overline{B} $$ $$ 0.75 * 0.2 = 0.15 $$ | $$ 0.75 $$ |\n",
    "| $$ \\overline{A} \\text{ (late)} $$ | $$ \\overline{A} \\cap B $$ $$ 0.25 * 0.6 = 0.15 $$ | $$ \\overline{A} \\cap \\overline{B} $$  $$ 0.25 * 0.4 = 0.10 $$ | $$ 0.25 $$ |\n",
    "| | $$ 0.75 $$ | $$ 0.25 $$ | $$ 1.00 $$|\n",
    "\n",
    "Answer a):  \n",
    "$ P(B) = P(A \\cap B) + P(\\overline{A} \\cap B)$  \n",
    "$ P(B) = 0.6 + 0.15 $  \n",
    "$ P(B) = 0.75  $  \n",
    "\n",
    "Answer b):  \n",
    "$ P(A \\cap \\overline{B}) = 0.15 $  \n",
    "$ P(B) = 0.75$  \n",
    "$ \\therefore P(\\overline{B}) = 1 - P(B) = 1 - 0.75 = 0.25 $\n",
    "\n",
    "$ P(A|\\overline{B}) = \\frac{P(A \\cap \\overline{B})}{P(\\overline{B})} $  \n",
    "$ P(A|\\overline{B}) = \\frac{0.15}{0.25} $  \n",
    "$ P(A|\\overline{B}) = 0.6 $"
   ]
  },
  {
   "cell_type": "markdown",
   "id": "14ae8124",
   "metadata": {
    "scrolled": false
   },
   "source": [
    "### Answer: Programming"
   ]
  },
  {
   "cell_type": "code",
   "execution_count": 6,
   "id": "63a1320b",
   "metadata": {
    "scrolled": false
   },
   "outputs": [
    {
     "name": "stdout",
     "output_type": "stream",
     "text": [
      "a) Answer: 0.75\n"
     ]
    }
   ],
   "source": [
    "orderOnTime = .75 # 75% of its special orders are received on time\n",
    "orderLate = 1 - orderOnTime # ie 25%\n",
    "orderOnTimeSpecificationMet = .8 # those received on time, 80% fully meet the specifications.\n",
    "orderLateSpecificationMet = .6 # those who arrive late, 60% comply.\n",
    "\n",
    "# Solve with variables\n",
    "specificationsMet = orderOnTime * orderOnTimeSpecificationMet + orderLate * orderLateSpecificationMet\n",
    "\n",
    "# Solve with float numbers\n",
    "# specificationsMet = .75 * .8 + .25 * .6\n",
    "\n",
    "# Solve with fractions\n",
    "# specificationsMet = 3/4 * 8/10 + 1/4 * 6/10\n",
    "\n",
    "print(\"a) Answer: {}\".format(round(specificationsMet, 2)))"
   ]
  },
  {
   "cell_type": "code",
   "execution_count": 7,
   "id": "4a466c5f",
   "metadata": {},
   "outputs": [
    {
     "name": "stdout",
     "output_type": "stream",
     "text": [
      "Unit spec-fail rate: 0.25\n",
      "Unit spec-fail & on-time rate: 0.15\n",
      "P(on-time|Unit spec-fail): 0.6\n"
     ]
    }
   ],
   "source": [
    "# Solved with variables\n",
    "specificationfailed = 1 - specificationsMet\n",
    "onTimeSpecificationFail = orderOnTime * (1 - orderOnTimeSpecificationMet)\n",
    "print(\"Unit spec-fail rate: {}\".format(round(specificationfailed, 2)))\n",
    "print(\"Unit spec-fail & on-time rate: {}\".format(round(onTimeSpecificationFail, 2)))\n",
    "print(\"P(on-time|Unit spec-fail): {}\".format(round(onTimeSpecificationFail/specificationfailed, 2)))"
   ]
  },
  {
   "cell_type": "markdown",
   "id": "4bb2f406",
   "metadata": {
    "scrolled": false
   },
   "source": [
    "## Exercise 2.\n",
    "Every night James rolls a dice to decide how he is going to wake up the next day to go to college. If the number turns out to be even, he will use the alarm of his cell phone and, if not, he will use the alarm clock. 5% of the times that his cell phone alarm sounds, he falls asleep, while only 1% of the times that he uses the alarm clock, he falls asleep and then fails to get to school on time.\n",
    "\n",
    "a) What is the probability that, on any given day, James falls asleep?\n"
   ]
  },
  {
   "cell_type": "code",
   "execution_count": 8,
   "id": "4e1aba41",
   "metadata": {},
   "outputs": [
    {
     "name": "stdout",
     "output_type": "stream",
     "text": [
      "Answer: 0.03\n"
     ]
    }
   ],
   "source": [
    "numberOfDiceSides = 6\n",
    "numberOfEvenSides = 3 # 3 sides are even number (2, 4, 6)\n",
    "numberOfOddSides = numberOfDiceSides - numberOfEvenSides\n",
    "\n",
    "cellPhoneAlarmFailureRate = 0.05 #5% of the times that his cell phone alarm sounds, he falls asleep\n",
    "alarmClockFailureRate = 0.01 # 1% of the times that he uses the alarm clock, he falls asleep\n",
    "\n",
    "failureRate = ((numberOfEvenSides / numberOfDiceSides) * cellPhoneAlarmFailureRate) + ((numberOfOddSides / numberOfDiceSides) * alarmClockFailureRate)\n",
    "\n",
    "print(\"Answer: {}\".format(round(failureRate, 2)))"
   ]
  },
  {
   "cell_type": "markdown",
   "id": "8755dcbd",
   "metadata": {},
   "source": [
    "\n",
    "b) If it is known that on a certain day James attended college on time, what is the probability that he chose to wake up with the alarm on his cell phone? Answer: 0.83  "
   ]
  },
  {
   "cell_type": "markdown",
   "id": "54d2c8f9",
   "metadata": {},
   "source": [
    "## Exercise 3.\n",
    "If we throw 3 coins, find the probability of getting:\n",
    "\n",
    "a) Two heads.  \n",
    "b) Two tails."
   ]
  },
  {
   "cell_type": "markdown",
   "id": "cbda0be5",
   "metadata": {},
   "source": [
    "$ P(H) = 1 / 2 $  \n",
    "$ P(T) = 1 / 2 $    \n",
    "\n",
    "$ P(2 Heads) = P(T \\cap H \\cap H)+ P(H \\cap T \\cap H)+ P(H \\cap H \\cap T) $  \n",
    "$ P(T \\cap H \\cap H) = P(H \\cap T \\cap H) = P(H \\cap H \\cap T) $  \n",
    "$ P(H \\cap H \\cap T) = (1/2) * (1/2) * (1/2) $  \n",
    "\n",
    "$ P(2 Heads) = 3 * P(THH) $  \n",
    "$ P(2 Heads) = 3 * (1 / 2 * 1 / 2 * 1 / 2) $  "
   ]
  },
  {
   "cell_type": "code",
   "execution_count": 9,
   "id": "1c145e8a",
   "metadata": {},
   "outputs": [
    {
     "data": {
      "text/plain": [
       "0.375"
      ]
     },
     "execution_count": 9,
     "metadata": {},
     "output_type": "execute_result"
    }
   ],
   "source": [
    "3 * (1 / 2 * 1 / 2 * 1 / 2) "
   ]
  },
  {
   "cell_type": "code",
   "execution_count": 10,
   "id": "1410543c",
   "metadata": {},
   "outputs": [
    {
     "name": "stdout",
     "output_type": "stream",
     "text": [
      "Answer: 0.375\n"
     ]
    }
   ],
   "source": [
    "numberOfCoinSides = 2\n",
    "numberOfCoins = 3\n",
    "head = 1\n",
    "tail = 1\n",
    "\n",
    "answer = numberOfCoins * head / numberOfCoinSides * head / numberOfCoinSides * tail / numberOfCoinSides\n",
    "\n",
    "print(\"Answer: {}\".format(answer))"
   ]
  },
  {
   "cell_type": "markdown",
   "id": "5c8e6c9a",
   "metadata": {},
   "source": [
    "## Exercise 4.\n",
    "We roll a dice, and we want to know the probability of:  \n",
    "\n",
    "a) Getting an even number?  "
   ]
  },
  {
   "cell_type": "code",
   "execution_count": 11,
   "id": "a81ff805",
   "metadata": {},
   "outputs": [
    {
     "name": "stdout",
     "output_type": "stream",
     "text": [
      "Answer: 0.5\n"
     ]
    }
   ],
   "source": [
    "# A dice has 6 sides.  3 sides are even number (2, 4, 6), 3 sides are odd number (1, 3, 5)\n",
    "numberOfDiceSides = 6\n",
    "numberOfEvenSides = 3\n",
    "\n",
    "answer = round(numberOfEvenSides / numberOfDiceSides, 2)\n",
    "print(\"Answer: {}\".format(answer))"
   ]
  },
  {
   "cell_type": "markdown",
   "id": "a61a0ddb",
   "metadata": {},
   "source": [
    "b) Getting a multiple of 6?"
   ]
  },
  {
   "cell_type": "code",
   "execution_count": 12,
   "id": "97d505ea",
   "metadata": {},
   "outputs": [
    {
     "name": "stdout",
     "output_type": "stream",
     "text": [
      "Answer: 0.17\n"
     ]
    }
   ],
   "source": [
    "# Only one side of the dice is a multiple of 6. i.e. 6\n",
    "\n",
    "answer = round(1 / 6, 2)\n",
    "print(\"Answer: {}\".format(answer))"
   ]
  },
  {
   "cell_type": "markdown",
   "id": "6db3ebe8",
   "metadata": {},
   "source": [
    "c) A number greater than 4?"
   ]
  },
  {
   "cell_type": "code",
   "execution_count": 13,
   "id": "53b211c4",
   "metadata": {},
   "outputs": [
    {
     "name": "stdout",
     "output_type": "stream",
     "text": [
      "Answer: 0.33\n"
     ]
    }
   ],
   "source": [
    "# Only two sides of the dice is greater than 4. i.e. 5 and 6\n",
    "\n",
    "answer = round(2 / 6, 2)\n",
    "print(\"Answer: {}\".format(answer))"
   ]
  },
  {
   "cell_type": "markdown",
   "id": "0400389f",
   "metadata": {},
   "source": [
    "## Exercise 5.\n",
    "An urn contains 8 red balls, 5 yellow balls and 7 green balls. If we randomly picked one, what is the probability of:"
   ]
  },
  {
   "cell_type": "code",
   "execution_count": 14,
   "id": "20954748",
   "metadata": {},
   "outputs": [],
   "source": [
    "# Variables\n",
    "redBalls = 8;\n",
    "yellowBalls = 5;\n",
    "greenBalls = 7;\n",
    "ballCount = redBalls + yellowBalls + greenBalls;"
   ]
  },
  {
   "cell_type": "markdown",
   "id": "435e8463",
   "metadata": {},
   "source": [
    "a) Getting a red ball?  "
   ]
  },
  {
   "cell_type": "code",
   "execution_count": 15,
   "id": "faf89bda",
   "metadata": {},
   "outputs": [
    {
     "name": "stdout",
     "output_type": "stream",
     "text": [
      "Answer: 0.4\n"
     ]
    }
   ],
   "source": [
    "answer = round(redBalls / ballCount, 2)\n",
    "print(\"Answer: {}\".format(answer))"
   ]
  },
  {
   "cell_type": "markdown",
   "id": "da51b5b2",
   "metadata": {},
   "source": [
    "b) Getting a green ball?"
   ]
  },
  {
   "cell_type": "code",
   "execution_count": 16,
   "id": "510a5c87",
   "metadata": {},
   "outputs": [
    {
     "name": "stdout",
     "output_type": "stream",
     "text": [
      "Answer: 0.35\n"
     ]
    }
   ],
   "source": [
    "answer = round(greenBalls / ballCount, 2)\n",
    "print(\"Answer: {}\".format(answer))"
   ]
  },
  {
   "cell_type": "markdown",
   "id": "9fd4885f",
   "metadata": {},
   "source": [
    "c) Getting a yellow ball?"
   ]
  },
  {
   "cell_type": "code",
   "execution_count": 17,
   "id": "8805b8df",
   "metadata": {},
   "outputs": [
    {
     "name": "stdout",
     "output_type": "stream",
     "text": [
      "Answer: 0.25\n"
     ]
    }
   ],
   "source": [
    "answer = round(yellowBalls / ballCount, 2)\n",
    "print(\"Answer: {}\".format(answer))"
   ]
  },
  {
   "cell_type": "markdown",
   "id": "2be76747",
   "metadata": {},
   "source": [
    "d) Not getting a red ball?"
   ]
  },
  {
   "cell_type": "code",
   "execution_count": 18,
   "id": "22ce0b20",
   "metadata": {},
   "outputs": [
    {
     "name": "stdout",
     "output_type": "stream",
     "text": [
      "Answer: 0.6\n"
     ]
    }
   ],
   "source": [
    "answer = round((ballCount - redBalls) / ballCount, 2)\n",
    "print(\"Answer: {}\".format(answer))"
   ]
  },
  {
   "cell_type": "markdown",
   "id": "0fdcd94e",
   "metadata": {},
   "source": [
    "e) Not getting a yellow ball?"
   ]
  },
  {
   "cell_type": "code",
   "execution_count": 19,
   "id": "7e2e6363",
   "metadata": {},
   "outputs": [
    {
     "name": "stdout",
     "output_type": "stream",
     "text": [
      "Answer: 0.75\n"
     ]
    }
   ],
   "source": [
    "answer = round((ballCount - yellowBalls) / ballCount, 100)\n",
    "print(\"Answer: {}\".format(answer))"
   ]
  },
  {
   "cell_type": "markdown",
   "id": "9d458ff5",
   "metadata": {},
   "source": [
    "f) If we know that the ball is not red, what is the probability of getting a green one?"
   ]
  },
  {
   "cell_type": "code",
   "execution_count": 20,
   "id": "f1fa9ba3",
   "metadata": {},
   "outputs": [
    {
     "name": "stdout",
     "output_type": "stream",
     "text": [
      "Answer: 0.58\n"
     ]
    }
   ],
   "source": [
    "answer = round(greenBalls / (ballCount - redBalls), 2)\n",
    "print(\"Answer: {}\".format(answer))"
   ]
  },
  {
   "cell_type": "markdown",
   "id": "b6db4334",
   "metadata": {},
   "source": [
    "## Exercise 6.\n",
    "Given $P(A) = 0.50$, $P(\\overline{B}) = 0.30$ and $P(A \\cup \\overline{B}) = 0.70$, Calculate $P(A \\cap B)$  \n",
    "\n",
    "### Contingency Table Answer\n",
    "\n",
    "| | $$ B $$ | $$ \\overline{B} $$ ||\n",
    "|-|-|-|-|\n",
    "| $$ A $$ | $$ A \\cap B $$ | $$ A \\cap \\overline{B} $$ | $$ 0.5 $$ |\n",
    "| $$ \\overline{A}$$ | $$ \\overline{A} \\cap B $$ | $$ \\overline{A} \\cap \\overline{B} $$ | $$ ? $$ |\n",
    "| | $$ ? $$ | $$ 0.3 $$ | $$ 1.0 $$ |\n",
    "\n",
    "$ P(A \\cap B) + P(\\overline{B}) = P(A \\cup \\overline{B})$  \n",
    "$ P(A \\cap B) = P(A \\cup \\overline{B}) - P(\\overline{B}) $  \n",
    "$ P(A \\cap B) = 0.7 - 0.3 $  \n",
    "$ P(A \\cap B) = 0.4 $  "
   ]
  },
  {
   "cell_type": "code",
   "execution_count": 21,
   "id": "60972bd5",
   "metadata": {},
   "outputs": [
    {
     "data": {
      "text/plain": [
       "0.4"
      ]
     },
     "execution_count": 21,
     "metadata": {},
     "output_type": "execute_result"
    }
   ],
   "source": [
    "round(0.7 - 0.3, 2)"
   ]
  },
  {
   "cell_type": "code",
   "execution_count": 22,
   "id": "d09d2010",
   "metadata": {},
   "outputs": [
    {
     "data": {
      "text/html": [
       "<div>\n",
       "<style scoped>\n",
       "    .dataframe tbody tr th:only-of-type {\n",
       "        vertical-align: middle;\n",
       "    }\n",
       "\n",
       "    .dataframe tbody tr th {\n",
       "        vertical-align: top;\n",
       "    }\n",
       "\n",
       "    .dataframe thead th {\n",
       "        text-align: right;\n",
       "    }\n",
       "</style>\n",
       "<table border=\"1\" class=\"dataframe\">\n",
       "  <thead>\n",
       "    <tr style=\"text-align: right;\">\n",
       "      <th></th>\n",
       "      <th>X</th>\n",
       "      <th>P(X)</th>\n",
       "      <th>P(B|X)</th>\n",
       "      <th>P(B̅|X)</th>\n",
       "      <th>P(X∩B)</th>\n",
       "      <th>P(X∩B̅)</th>\n",
       "      <th>P(B)</th>\n",
       "      <th>P(B̅)</th>\n",
       "      <th>P(X|B)</th>\n",
       "    </tr>\n",
       "  </thead>\n",
       "  <tbody>\n",
       "    <tr>\n",
       "      <th>0</th>\n",
       "      <td>A</td>\n",
       "      <td>0.5</td>\n",
       "      <td>NaN</td>\n",
       "      <td>NaN</td>\n",
       "      <td>0.4</td>\n",
       "      <td>0</td>\n",
       "      <td>0.3</td>\n",
       "      <td>NaN</td>\n",
       "      <td>0.7</td>\n",
       "    </tr>\n",
       "    <tr>\n",
       "      <th>1</th>\n",
       "      <td>A̅</td>\n",
       "      <td>NaN</td>\n",
       "      <td>NaN</td>\n",
       "      <td>NaN</td>\n",
       "      <td>NaN</td>\n",
       "      <td>0</td>\n",
       "      <td>0.3</td>\n",
       "      <td>NaN</td>\n",
       "      <td>NaN</td>\n",
       "    </tr>\n",
       "  </tbody>\n",
       "</table>\n",
       "</div>"
      ],
      "text/plain": [
       "    X  P(X)  P(B|X)  P(B̅|X)  P(X∩B)  P(X∩B̅)  P(B)  P(B̅)  P(X|B)\n",
       "0   A   0.5     NaN      NaN     0.4        0   0.3    NaN     0.7\n",
       "1  A̅   NaN     NaN      NaN     NaN        0   0.3    NaN     NaN"
      ]
     },
     "execution_count": 22,
     "metadata": {},
     "output_type": "execute_result"
    }
   ],
   "source": [
    "excelWorkbook.parse('Question6')"
   ]
  },
  {
   "cell_type": "markdown",
   "id": "0f60a528",
   "metadata": {},
   "source": [
    "### Formula Algebra Answer\n",
    "\n",
    "$ P(A \\cup \\overline{B}) = P(A) + P(\\overline{B})-P(A \\cap \\overline{B}) $  \n",
    "$ P(A) = P(A \\cap B) + P(A \\cap \\overline{B}) $  \n",
    "$ P(A \\cup \\overline{B}) = P(A \\cap B) + P(A \\cap \\overline{B}) + P(\\overline{B})-P(A \\cap \\overline{B}) $  \n",
    "$ P(A \\cup \\overline{B}) = P(A \\cap B) + P(\\overline{B}) $  \n",
    "$ P(A \\cup \\overline{B})-P(\\overline{B}) = P(A \\cap B) $  \n",
    "$ .7 - .3 = P(A \\cap B) $  \n",
    "$ P(A \\cap B) = 0.4 $  "
   ]
  },
  {
   "cell_type": "code",
   "execution_count": 23,
   "id": "1ae42fee",
   "metadata": {},
   "outputs": [
    {
     "name": "stdout",
     "output_type": "stream",
     "text": [
      "Answer: 0.4\n"
     ]
    }
   ],
   "source": [
    "notB = .3\n",
    "AuNotB = .7\n",
    "\n",
    "AnB = AuNotB - notB\n",
    "answer = round(AnB, 2)\n",
    "print(\"Answer: {}\".format(answer))"
   ]
  },
  {
   "cell_type": "markdown",
   "id": "22d06bbf",
   "metadata": {},
   "source": [
    "## Exercise 7.\n",
    "In a classroom of 40 students, 10 of them are boys. Between the boys, 3 can speak another language while 50% of the girls can speak a foreign language. If we randomly pick a student:  "
   ]
  },
  {
   "cell_type": "code",
   "execution_count": 24,
   "id": "6c2c98b3",
   "metadata": {},
   "outputs": [
    {
     "data": {
      "text/html": [
       "<div>\n",
       "<style scoped>\n",
       "    .dataframe tbody tr th:only-of-type {\n",
       "        vertical-align: middle;\n",
       "    }\n",
       "\n",
       "    .dataframe tbody tr th {\n",
       "        vertical-align: top;\n",
       "    }\n",
       "\n",
       "    .dataframe thead th {\n",
       "        text-align: right;\n",
       "    }\n",
       "</style>\n",
       "<table border=\"1\" class=\"dataframe\">\n",
       "  <thead>\n",
       "    <tr style=\"text-align: right;\">\n",
       "      <th></th>\n",
       "      <th>X</th>\n",
       "      <th>Frequency</th>\n",
       "      <th>n</th>\n",
       "      <th>P(X)</th>\n",
       "      <th>P(B|X)</th>\n",
       "      <th>P(B̅|X)</th>\n",
       "      <th>P(X∩B)</th>\n",
       "      <th>P(X∩B̅)</th>\n",
       "      <th>P(B)</th>\n",
       "      <th>P(B̅)</th>\n",
       "      <th>P(X|B)</th>\n",
       "    </tr>\n",
       "  </thead>\n",
       "  <tbody>\n",
       "    <tr>\n",
       "      <th>0</th>\n",
       "      <td>A</td>\n",
       "      <td>10</td>\n",
       "      <td>40</td>\n",
       "      <td>0.25</td>\n",
       "      <td>0.3</td>\n",
       "      <td>0.7</td>\n",
       "      <td>0.075</td>\n",
       "      <td>0.175</td>\n",
       "      <td>0.45</td>\n",
       "      <td>0.55</td>\n",
       "      <td>0.318182</td>\n",
       "    </tr>\n",
       "    <tr>\n",
       "      <th>1</th>\n",
       "      <td>A̅</td>\n",
       "      <td>30</td>\n",
       "      <td>40</td>\n",
       "      <td>0.75</td>\n",
       "      <td>0.5</td>\n",
       "      <td>0.5</td>\n",
       "      <td>0.375</td>\n",
       "      <td>0.375</td>\n",
       "      <td>0.45</td>\n",
       "      <td>0.55</td>\n",
       "      <td>0.681818</td>\n",
       "    </tr>\n",
       "  </tbody>\n",
       "</table>\n",
       "</div>"
      ],
      "text/plain": [
       "    X  Frequency   n  P(X)  P(B|X)  P(B̅|X)  P(X∩B)  P(X∩B̅)  P(B)  P(B̅)  \\\n",
       "0   A         10  40  0.25     0.3      0.7   0.075    0.175  0.45   0.55   \n",
       "1  A̅         30  40  0.75     0.5      0.5   0.375    0.375  0.45   0.55   \n",
       "\n",
       "     P(X|B)  \n",
       "0  0.318182  \n",
       "1  0.681818  "
      ]
     },
     "execution_count": 24,
     "metadata": {},
     "output_type": "execute_result"
    }
   ],
   "source": [
    "excelWorkbook.parse('Question7')"
   ]
  },
  {
   "cell_type": "markdown",
   "id": "12340b10",
   "metadata": {},
   "source": [
    "let probability of a girl be $ P(\\overline{A}) $  \n",
    "let probability of a foreign language be $ P(B) $  \n",
    "$ P(\\overline{A}) = 0.75 $  \n",
    "$ P(B) = 0.45 $  \n",
    "$ P(A|\\overline{B}) = 0.318182 $  "
   ]
  },
  {
   "cell_type": "markdown",
   "id": "45ad72b3",
   "metadata": {},
   "source": [
    "### Contingency Table\n",
    "| | $$ B \\text{ (boy)} $$ | $$ \\overline{B} \\text{ (girl)} $$ | |\n",
    "|-|-|-|-|\n",
    "| $$ M $$ (multilingual) | $$ 3 $$ | $$ 0.5 * 30 = (15) $$ | $$ 3 + 15 = (18) $$ |\n",
    "| $$ \\overline{M} $$ (not multilingual) | $$ 10 - 3 = (7) $$ | $$ 0.5 * 30 = (15) $$ | $$ 7 + 15 = (22) $$ |\n",
    "| | $$ 10 $$| $$ 40 - 10 = (30) $$ | $$ 40 $$ |"
   ]
  },
  {
   "cell_type": "markdown",
   "id": "d305d683",
   "metadata": {},
   "source": [
    "a) What is the probability of this to be a girl?"
   ]
  },
  {
   "cell_type": "code",
   "execution_count": 25,
   "id": "80b40d5f",
   "metadata": {},
   "outputs": [
    {
     "name": "stdout",
     "output_type": "stream",
     "text": [
      "Answer: 0.75\n"
     ]
    }
   ],
   "source": [
    "studentCount = 40\n",
    "boyCount = 10\n",
    "boyMultilingualCount = 3\n",
    "girlMultilingualRate = .5\n",
    "\n",
    "girlCount = studentCount - boyCount\n",
    "answer = round(girlCount / studentCount, 2)\n",
    "print(\"Answer: {}\".format(answer))"
   ]
  },
  {
   "cell_type": "markdown",
   "id": "ef6c0862",
   "metadata": {},
   "source": [
    "b) What is the probability this student speaks a foreign language?"
   ]
  },
  {
   "cell_type": "code",
   "execution_count": 26,
   "id": "57bbbe6a",
   "metadata": {},
   "outputs": [
    {
     "name": "stdout",
     "output_type": "stream",
     "text": [
      "Answer: 0.45\n"
     ]
    }
   ],
   "source": [
    "girlMultilingualCount = girlCount * girlMultilingualRate\n",
    "studentMultilingualCount = boyMultilingualCount + girlMultilingualCount\n",
    "answer = round((studentMultilingualCount) / studentCount, 2)\n",
    "print(\"Answer: {}\".format(answer))"
   ]
  },
  {
   "cell_type": "markdown",
   "id": "ec7dc056",
   "metadata": {},
   "source": [
    "c) If the student does not speak a foreign language, what is the probability of this person to be a boy?"
   ]
  },
  {
   "cell_type": "code",
   "execution_count": 27,
   "id": "c08ccfed",
   "metadata": {},
   "outputs": [
    {
     "name": "stdout",
     "output_type": "stream",
     "text": [
      "Answer: 0.3182\n"
     ]
    }
   ],
   "source": [
    "answer = round((boyCount - boyMultilingualCount)/(studentCount - studentMultilingualCount), 4)\n",
    "print(\"Answer: {}\".format(answer))"
   ]
  },
  {
   "cell_type": "code",
   "execution_count": 28,
   "id": "c2115a6b",
   "metadata": {},
   "outputs": [],
   "source": [
    "# Close Connection to the open excelWorkbook\n",
    "excelWorkbook.close()"
   ]
  },
  {
   "cell_type": "markdown",
   "id": "c292e782",
   "metadata": {},
   "source": [
    "Copyright (c) 2021 Mark Crowe (<https://github.com/markcrowe-com>). All rights reserved.  "
   ]
  }
 ],
 "metadata": {
  "interpreter": {
   "hash": "57baa5815c940fdaff4d14510622de9616cae602444507ba5d0b6727c008cbd6"
  },
  "kernelspec": {
   "display_name": "Python 3",
   "language": "python",
   "name": "python3"
  },
  "language_info": {
   "codemirror_mode": {
    "name": "ipython",
    "version": 3
   },
   "file_extension": ".py",
   "mimetype": "text/x-python",
   "name": "python",
   "nbconvert_exporter": "python",
   "pygments_lexer": "ipython3",
   "version": "3.8.8"
  }
 },
 "nbformat": 4,
 "nbformat_minor": 5
}
