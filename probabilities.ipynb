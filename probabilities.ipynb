{
 "cells": [
  {
   "cell_type": "markdown",
   "id": "178f1740",
   "metadata": {},
   "source": [
    "<table><tr><td><a href=\"https://mybinder.org/v2/gh/markcrowe-com/statistics/master?filepath=probabilities.ipynb\" target=\"_parent\"><img src=\"https://mybinder.org/badge_logo.svg\" alt=\"Open In Binder\"/></a></td><td>online editors</td><td><a href=\"https://colab.research.google.com/github/markcrowe-com/statistics/blob/master/probabilities.ipynb\" target=\"_parent\"><img src=\"https://colab.research.google.com/assets/colab-badge.svg\" alt=\"Open In Colab\"/></a></td></tr></table>"
   ]
  },
  {
   "cell_type": "markdown",
   "id": "18b64c9a",
   "metadata": {},
   "source": [
    "# Probabilities\n",
    "\n",
    "## Defintions\n",
    "\n",
    "The *probability* of an event $ E $ is a number $ P(E) $ between 0 and 1 (inclusive), so $ 0 \\leq P(E) \\leq 1 $  \n",
    "\n",
    "$ P(\\emptyset)=0 $\n",
    "\n",
    "Let $ A $ and $ B $ be events in a sample space $ S $.  \n",
    "1. $ A \\cap B $ is the set of outcomes that are in both $ A $ and $ B $.  \n",
    "2. $ A \\cup B $ is the set of outcomes that are in either $ A $ or $ B $ (or both).  \n",
    "3. $ \\overline{A} $ is the set of outcomes that are not in $ A $ (but are in $ S $).  \n",
    "4. $ A \\setminus B $ is the set of outcomes that are in $ A $ and not in $ B $.  \n",
    "\n",
    "Probabilities obey some important rules:\n",
    "\n",
    "## Theorems\n",
    "Let $ A $, $ B $ and $ C $ be events in the sample space $ S $.  \n",
    "1. $ P(A \\cup B) = P(A) + P(B) - P(A \\cap B) $  \n",
    "2. $ P(A) = 1 - P(\\overline{A})$, where $\\overline{A} = S \\setminus A $.  \n",
    "3. If $ A $ and $ B $ are disjoint ($ P(A \\cap B) = 0 $), then $ P(A \\cup B) = P(A) + P(B) $.  \n",
    "4. $ P(S) = 1 $.  \n",
    "\n",
    "## Contingency Table\n",
    "| | $$ B $$ | $$ \\overline{B} $$ |\n",
    "|-|-|-|\n",
    "| $$ A $$ | $$ A \\cap B $$ | $$ \\overline{A} \\cap B $$ |\n",
    "| $$ \\overline{A} $$ | $$ A \\cap \\overline{B} $$ | $$ \\overline{A} \\cap \\overline{B} $$ |\n",
    "\n",
    "\n",
    "## Theorems\n",
    "1. Axiom of addition: $ P(A) = P(A \\cap B) + P(A \\cap \\overline{B}) $\n",
    "2. Conditional probability: $P (A|B) = \\dfrac{P(A \\cap B)}{P(B)} $\n",
    "   * because $ P(B) = 1 - P(\\overline{B}) $\n",
    "   * we can rewrite the Conditional probability as $ P(A|B) = \\dfrac{P(A \\cap B)}{1 - P(\\overline{B})} $\n",
    "\n",
    "## Diagrams\n",
    "[![Diagram 1](https://mermaid.ink/img/eyJjb2RlIjoiZ3JhcGggVEI7XG5cdHN0YXJ0KCApXG5cdHN0YXJ0LS0-IHxcIlAoQSlcInwgQSgoQSkpXG5cdHN0YXJ0LS0-IHxcIlAoQcyFKVwifCBhKChcIkHMhVwiKSlcblx0QS0tPiB8XCJQKEEsQilcInwgQUIoKFwiQSZjYXA7QlwiKSlcblx0QS0tPiB8XCJQKEEsQsyFKVwifCBBYigoXCJBJmNhcDtCzIVcIikpXG5cdGEtLT4gfFwiUChBzIUsQilcInwgYUIoKFwiQcyFJmNhcDtCXCIpKVxuXHRhLS0-IHxcIlAoQcyFLELMhSlcInwgYWIoKFwiQcyFJmNhcDtCzIVcIikpXG5cdEFCLS0-QUJBbnN3ZXIoXCJQKEEpICogUChBLEIpXCIpXG5cdEFiLS0-QWJBbnN3ZXIoXCJQKEEpICogUChBLELMhSlcIilcblx0YUItLT5hQkFuc3dlcihcIlAoQcyFKSAqIFAoQSxCzIUpXCIpXG5cdGFiLS0-YWJBbnN3ZXIoXCJQKEHMhSkgKiBQKEHMhSxCzIUpXCIpIiwibWVybWFpZCI6eyJ0aGVtZSI6ImRlZmF1bHQifSwidXBkYXRlRWRpdG9yIjpmYWxzZSwiYXV0b1N5bmMiOnRydWUsInVwZGF0ZURpYWdyYW0iOmZhbHNlfQ)](https://mermaid-js.github.io/mermaid-live-editor/edit/#eyJjb2RlIjoiZ3JhcGggVEI7XG5cdHN0YXJ0KCApXG5cdHN0YXJ0LS0-IHxcIlAoQSlcInwgQSgoQSkpXG5cdHN0YXJ0LS0-IHxcIlAoQcyFKVwifCBhKChcIkHMhVwiKSlcblx0QS0tPiB8XCJQKEEsQilcInwgQUIoKFwiQSZjYXA7QlwiKSlcblx0QS0tPiB8XCJQKEEsQsyFKVwifCBBYigoXCJBJmNhcDtCzIVcIikpXG5cdGEtLT4gfFwiUChBzIUsQilcInwgYUIoKFwiQcyFJmNhcDtCXCIpKVxuXHRhLS0-IHxcIlAoQcyFLELMhSlcInwgYWIoKFwiQcyFJmNhcDtCzIVcIikpXG5cdEFCLS0-QUJBbnN3ZXIoXCJQKEEpICogUChBLEIpXCIpXG5cdEFiLS0-QWJBbnN3ZXIoXCJQKEEpICogUChBLELMhSlcIilcblx0YUItLT5hQkFuc3dlcihcIlAoQcyFKSAqIFAoQSxCzIUpXCIpXG5cdGFiLS0-YWJBbnN3ZXIoXCJQKEHMhSkgKiBQKEHMhSxCzIUpXCIpIiwibWVybWFpZCI6IntcbiAgXCJ0aGVtZVwiOiBcImRlZmF1bHRcIlxufSIsInVwZGF0ZUVkaXRvciI6ZmFsc2UsImF1dG9TeW5jIjp0cnVlLCJ1cGRhdGVEaWFncmFtIjpmYWxzZX0)\n",
    ">Probability Tree\n",
    "\n",
    "[![Diagram 2](https://mermaid.ink/img/eyJjb2RlIjoiZ3JhcGggVEI7XG5cdHN0YXJ0KCApXG5cdHN0YXJ0LS0-IHxcIlAoQSlcInwgQSgoQSkpXG5cdHN0YXJ0LS0-IHxcIlAoQcyFKVwifCBhKChcIkHMhVwiKSlcblx0QS0tPiB8XCJQKEEsQilcInwgQUIoKFwiQSZjYXA7QlwiKSlcblx0QS0tPiB8XCJQKEEsQsyFKVwifCBBYigoXCJBJmNhcDtCzIVcIikpXG5cdGEtLT4gfFwiUChBzIUsQilcInwgYUIoKFwiQcyFJmNhcDtCXCIpKVxuXHRhLS0-IHxcIlAoQcyFLELMhSlcInwgYWIoKFwiQcyFJmNhcDtCzIVcIikpXG5cdEFCLS0-QUJBbnN3ZXIoXCJQKEEpICogUChBLEIpXCIpXG5cdEFiLS0-QWJBbnN3ZXIoXCJQKEEpICogUChBLELMhSlcIilcblx0YUItLT5hQkFuc3dlcihcIlAoQcyFKSAqIFAoQSxCzIUpXCIpXG5cdGFiLS0-YWJBbnN3ZXIoXCJQKEHMhSkgKiBQKEHMhSxCzIUpXCIpXG5cdEFCQW5zd2VyLS0-QigoQikpXG5cdEFiQW5zd2VyLS0-YigoXCJCzIVcIikpXG5cdGFCQW5zd2VyLS0-QigoQikpXG5cdGFiQW5zd2VyLS0-YigoXCJCzIVcIikpXG5cdEItLT5CQW5zd2VyKFwiUChBJmNhcDtCKSArIFAoQcyFJmNhcDtCKVwiKVxuXHRiLS0-YkFuc3dlcihcIlAoQSZjYXA7QsyFKSArIFAoQcyFJmNhcDtCzIUpXCIpIiwibWVybWFpZCI6eyJ0aGVtZSI6ImRlZmF1bHQifSwidXBkYXRlRWRpdG9yIjpmYWxzZSwiYXV0b1N5bmMiOnRydWUsInVwZGF0ZURpYWdyYW0iOmZhbHNlfQ)](https://mermaid-js.github.io/mermaid-live-editor/edit#eyJjb2RlIjoiZ3JhcGggVEI7XG5cdHN0YXJ0KCApXG5cdHN0YXJ0LS0-IHxcIlAoQSlcInwgQSgoQSkpXG5cdHN0YXJ0LS0-IHxcIlAoQcyFKVwifCBhKChcIkHMhVwiKSlcblx0QS0tPiB8XCJQKEEsQilcInwgQUIoKFwiQSZjYXA7QlwiKSlcblx0QS0tPiB8XCJQKEEsQsyFKVwifCBBYigoXCJBJmNhcDtCzIVcIikpXG5cdGEtLT4gfFwiUChBzIUsQilcInwgYUIoKFwiQcyFJmNhcDtCXCIpKVxuXHRhLS0-IHxcIlAoQcyFLELMhSlcInwgYWIoKFwiQcyFJmNhcDtCzIVcIikpXG5cdEFCLS0-QUJBbnN3ZXIoXCJQKEEpICogUChBLEIpXCIpXG5cdEFiLS0-QWJBbnN3ZXIoXCJQKEEpICogUChBLELMhSlcIilcblx0YUItLT5hQkFuc3dlcihcIlAoQcyFKSAqIFAoQSxCzIUpXCIpXG5cdGFiLS0-YWJBbnN3ZXIoXCJQKEHMhSkgKiBQKEHMhSxCzIUpXCIpXG5cdEFCQW5zd2VyLS0-QigoQikpXG5cdEFiQW5zd2VyLS0-YigoXCJCzIVcIikpXG5cdGFCQW5zd2VyLS0-QigoQikpXG5cdGFiQW5zd2VyLS0-YigoXCJCzIVcIikpXG5cdEItLT5CQW5zd2VyKFwiUChBJmNhcDtCKSArIFAoQcyFJmNhcDtCKVwiKVxuXHRiLS0-YkFuc3dlcihcIlAoQSZjYXA7QsyFKSArIFAoQcyFJmNhcDtCzIUpXCIpIiwibWVybWFpZCI6IntcbiAgXCJ0aGVtZVwiOiBcImRlZmF1bHRcIlxufSIsInVwZGF0ZUVkaXRvciI6ZmFsc2UsImF1dG9TeW5jIjp0cnVlLCJ1cGRhdGVEaWFncmFtIjpmYWxzZX0)\n",
    ">Probability Tree"
   ]
  },
  {
   "attachments": {},
   "cell_type": "markdown",
   "id": "7de0893d",
   "metadata": {},
   "source": [
    "$$ \\operatorname{E}[X]=\\sum_{i=1}^{n}x_{i}\\,p_{i} $$"
   ]
  }
 ],
 "metadata": {
  "kernelspec": {
   "display_name": "Python 3",
   "language": "python",
   "name": "python3"
  },
  "language_info": {
   "codemirror_mode": {
    "name": "ipython",
    "version": 3
   },
   "file_extension": ".py",
   "mimetype": "text/x-python",
   "name": "python",
   "nbconvert_exporter": "python",
   "pygments_lexer": "ipython3",
   "version": "3.8.8"
  }
 },
 "nbformat": 4,
 "nbformat_minor": 5
}
